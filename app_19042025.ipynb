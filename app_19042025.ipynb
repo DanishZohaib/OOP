{
 "cells": [
  {
   "cell_type": "markdown",
   "id": "67918806",
   "metadata": {},
   "source": [
    "OOP (Object Oriented Programming)\n",
    "It's a Blue print\n",
    "__init__ dunder or magic fuction"
   ]
  },
  {
   "cell_type": "code",
   "execution_count": null,
   "id": "402b2b5e",
   "metadata": {},
   "outputs": [
    {
     "ename": "",
     "evalue": "",
     "output_type": "error",
     "traceback": [
      "\u001b[1;31mRunning cells with 'Python 3.13.2' requires the ipykernel package.\n",
      "\u001b[1;31m<a href='command:jupyter.createPythonEnvAndSelectController'>Create a Python Environment</a> with the required packages.\n",
      "\u001b[1;31mOr install 'ipykernel' using the command: '\"c:/Program Files/Python313/python3.13t.exe\" -m pip install ipykernel -U --user --force-reinstall'"
     ]
    }
   ],
   "source": [
    "class Student:    # First alphabat is Capital\n",
    "    name: str = \"Danish\"  #atrribute\n",
    "    age: str = 50\n",
    "    \n",
    "    def __init__(self, name, age):\n",
    "        print(\"Hello world\")    # constrauctor\n",
    "    \n",
    "    \n",
    "student1 = Student(\"Danish\", 30)   # arguments will be here\n",
    "\n"
   ]
  },
  {
   "cell_type": "code",
   "execution_count": null,
   "id": "03cca116",
   "metadata": {},
   "outputs": [],
   "source": [
    "class Person:\n",
    "\n",
    "    def __init__(self, user_name, user_age):\n",
    "        print(\"self>>>\",self)\n",
    "        self.name = user_name\n",
    "        self.age = user_age\n",
    "        \n",
    "    \n",
    "person1 = Person(\"Danish\", 30) \n",
    "print(\"person1 name\", person1.name)\n",
    "print(\"person age\", person1.age)"
   ]
  }
 ],
 "metadata": {
  "kernelspec": {
   "display_name": "Python 3",
   "language": "python",
   "name": "python3"
  },
  "language_info": {
   "name": "python",
   "version": "3.13.2"
  }
 },
 "nbformat": 4,
 "nbformat_minor": 5
}
