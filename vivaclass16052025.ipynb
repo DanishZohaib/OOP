{
  "nbformat": 4,
  "nbformat_minor": 0,
  "metadata": {
    "colab": {
      "provenance": [],
      "authorship_tag": "ABX9TyOIjZzVE1demaoX3fdJcaYc",
      "include_colab_link": true
    },
    "kernelspec": {
      "name": "python3",
      "display_name": "Python 3"
    },
    "language_info": {
      "name": "python"
    }
  },
  "cells": [
    {
      "cell_type": "markdown",
      "metadata": {
        "id": "view-in-github",
        "colab_type": "text"
      },
      "source": [
        "<a href=\"https://colab.research.google.com/github/DanishZohaib/OOP/blob/main/vivaclass16052025.ipynb\" target=\"_parent\"><img src=\"https://colab.research.google.com/assets/colab-badge.svg\" alt=\"Open In Colab\"/></a>"
      ]
    },
    {
      "cell_type": "markdown",
      "source": [
        "1. Single Responsibility Principle (SRP)\n"
      ],
      "metadata": {
        "id": "yDkIBul2PdwY"
      }
    },
    {
      "cell_type": "code",
      "execution_count": null,
      "metadata": {
        "id": "PdyzUkjKPGoe"
      },
      "outputs": [],
      "source": [
        "# SOLID Design Principle\n",
        "# 1. Single Responsibility Principle (SRP)\n",
        "class Order(object):\n",
        "  def __init__(self, id:str=\"\", amount:float=0.0, weight_kg:float=0.0):\n",
        "    self.id = id\n",
        "    self.amount = amount\n",
        "    self.weight_kg = weight_kg\n",
        "class OrderRepository():\n",
        "  def get(self, order_id:str) -> Order:\n",
        "    return Order(oder_id, amount=100.0, weight_kg=5.0)\n",
        "  def save(self, order:Order):\n",
        "    print(f\"Update Order {order.order_id}\")\n"
      ]
    },
    {
      "cell_type": "code",
      "source": [
        "# 2. Open Close Principle (OCP)\n",
        "# 3. Liskov Substitution Principle (LSP)\n",
        "# 4. Interface Segregation Principle (ISP)\n",
        "# 5. Dependecy Inversion Principle (DIP)\n",
        "\n",
        "\n",
        "from abc import ABC, abstractmethod\n",
        "class IPaymentprocessor(ABC):\n",
        "  @abstractmethod\n",
        "  def pay(self, amount:float):\n",
        "    pass\n",
        "class IRefundprocessor(ABC):\n",
        "  @abstractmethod\n",
        "  def refund(self, transaction_id:str):\n",
        "    pass\n",
        "\n",
        "class StripeProcessor(IPaymentprocessor,IRefundprocessor):\n",
        "  def pay(self, amount:float) -> None:\n",
        "    print(f\"[Stripe] Charged ${amount:100.5}\")\n",
        "  def refund(self, transaction_id:str) -> None:\n",
        "    print(f\"[Stripe] Refunded Transaction ${transaction_id}\")\n",
        "\n",
        "class BankProcessor(IPaymentprocessor):\n",
        "  def pay(self, amount:float) -> None:\n",
        "    print(f\"[Bank] Charged ${amount:100.5}\")\n",
        "\n",
        "class PaypalProcessor(IPaymentprocessor,IRefundprocessor):\n",
        "  def pay(self, amount:float) -> None:\n",
        "    print(f\"[Paypal] Paid ${amount:150.8}\")\n",
        "  def refund(self, transaction_id:str) -> None:\n",
        "    print(f\"[Paypal] Refunded Transaction ${transaction_id}\")\n",
        "\n",
        "class OderProcess:\n",
        "          def __init__(self, repo:OrderRepository, payment: IPaymentProcessor):\n",
        "            self.repo = repo\n",
        "            self.payment = payment\n",
        ""
      ],
      "metadata": {
        "id": "ISO9-95RaVZT"
      },
      "execution_count": null,
      "outputs": []
    }
  ]
}